{
 "cells": [
  {
   "cell_type": "code",
   "execution_count": 8,
   "metadata": {},
   "outputs": [],
   "source": [
    "from bs4 import BeautifulSoup\n",
    "import requests\n",
    "import pandas as pd\n",
    "import requests\n",
    "import time"
   ]
  },
  {
   "cell_type": "code",
   "execution_count": 9,
   "metadata": {},
   "outputs": [],
   "source": [
    "# custom_headers = {\n",
    "#     \"Accept\": \"text/html,application/xhtml+xml,application/xml;q=0.9,image/avif,image/webp,image/apng,*/*;q=0.8,application/signed-exchange;v=b3;q=0.7\", \n",
    "#     \"Accept-Encoding\": \"gzip, deflate, br\", \n",
    "#     \"Accept-Language\": \"en-US,en;q=0.9\", \n",
    "#     \"Upgrade-Insecure-Requests\": \"1\", \n",
    "#     \"Referer\": \"https://www.google.com/\",\n",
    "#     \"User-agent\": \"Mozilla/5.0 (Windows NT 10.0; Win64; x64; rv:126.0) Gecko/20100101 Firefox/126.0\",\n",
    "# }\n",
    "\n",
    "cookies = {\n",
    "    'session-id': '257-8319112-8619264',\n",
    "    'session-id-time': '2082787201l',\n",
    "    'i18n-prefs': 'GBP',\n",
    "    'csm-hit': 'tb:s-G5H91RDPPJR06AWHKGPV^|1718214174313&t:1718214175053&adb:adblk_no',\n",
    "    'ubid-acbuk': '257-0074823-8137474',\n",
    "    'session-token': 'kXNGv7BpiPWBRYCaVulTNXwIGIgRRYF20sBKq3CPZiPG564Tj0IAto4dJl6M+/8i6qMxoPmRYg4yAi4JkeQYf0czFbp73lToOVpk0x7F/VssnK/vHGssCqKrMUeCyQxToAn5c1U6Z2k/3T4t0LXYEv1oBWQv2n1B+Vg3OFwVxoKmr+lJuH9kmidNrKWOlGg3sEWjzcgg3EPqnUcrKc+gb2BIWm8HMa7AJTLiQY2JaAp7637EmEaIz33d76AQNvd6RpJlcnSncbttchYk/uV9t4Vu4A7VNPz195zgz3DlNFGaR6sLxekDYZkazKHnlbsEzJk+YldKHrpwm/Pvyobw7cvdX+yM3l4NrMDYsbLFL5qziTA1xWqA+d1O2fM+YqWe',\n",
    "    'lc-acbuk': 'en_GB',\n",
    "    'x-acbuk': 'oG1gXi8lxjwAd7nRdiRn2^@lMPw0fNtkb7mYGJeXJby3HKqndGmQBY6c5odsU05cO',\n",
    "    'at-acbuk': 'Atza^|IwEBIJ6LCCvQopCqxly9tASJoC7JkzDlA3mywQP4y_vd5W7K2OmV8ZzaOJZB1HpsRH72hd317Ccwhnxk9-JnNYmW63wFWyb4C_I7kztmPuO22UTmCh8adebNqjwMzj8brXfZLjwGCqcn9vW6PcCyORhL27v0XhWclQiEIgrcN4K84-viUpRmbgrJbpqjr0Ps5QRSFbR96eojQ04zCh2rWcR0piwpITPDPw7wyCk1cMdOSynnSQ',\n",
    "    'sess-at-acbuk': 'Hh8/nyYMikZB9gcdfEFhOcCSNCVvzV89W1dpiUY+XBA=',\n",
    "    'sst-acbuk': 'Sst1^|PQFcImeUnIA5G9cupIN6hp2pCXPKfOT802zYxeCduQjiFgjxaOZVZcn-1a_wbDewShq3A5rzwOMpXulty-o0qtl1ZKY-tbK2_lKroEipsdtM4bZcu1qE-dm-jsSgawjJ9I5aEAib_pLmuCeyFagkbiZRWXG_PiOtLt6356uAHR4RfH6QQUuzdchmtlADGHz9xnPu4d4xpeFv3X84HFrTOFd1gP-5HkPUCFQbKCJzzVgVMBxEad1PRo3mMBQwXnLl1LCr-07hUjBIaPII8k6q_01NSCGRXkRWJHcpS4jV_EpWM-E',\n",
    "    'sp-cdn': 'L5Z9:IN',\n",
    "}\n",
    "\n",
    "headers = {\n",
    "    'User-Agent': 'Mozilla/5.0 (Windows NT 10.0; Win64; x64; rv:126.0) Gecko/20100101 Firefox/126.0',\n",
    "    'Accept': 'image/avif,image/webp,*/*',\n",
    "    'Accept-Language': 'en-GB,en;q=0.5',\n",
    "    'Connection': 'keep-alive',\n",
    "    'Referer': 'https://www.amazon.co.uk/ref=nav_logo',\n",
    "    'Sec-Fetch-Dest': 'image',\n",
    "    'Sec-Fetch-Mode': 'no-cors',\n",
    "    'Sec-Fetch-Site': 'same-origin',\n",
    "    'Priority': 'u=4',\n",
    "    'Pragma': 'no-cache',\n",
    "    'Cache-Control': 'no-cache',\n",
    "}"
   ]
  },
  {
   "cell_type": "code",
   "execution_count": 10,
   "metadata": {},
   "outputs": [],
   "source": [
    "def get_soup(url):\n",
    "    response = requests.get(url, headers=headers, cookies=cookies)\n",
    "\n",
    "    if response.status_code != 200:\n",
    "        print(\"Error in getting webpage\")\n",
    "        exit(-1)\n",
    "\n",
    "    soup = BeautifulSoup(response.text, \"lxml\")\n",
    "    return soup"
   ]
  },
  {
   "cell_type": "code",
   "execution_count": 11,
   "metadata": {},
   "outputs": [],
   "source": [
    "scraped_reviews = []"
   ]
  },
  {
   "cell_type": "code",
   "execution_count": 12,
   "metadata": {},
   "outputs": [],
   "source": [
    "def get_reviews(reviewUrl):\n",
    "\n",
    "    soup = get_soup(reviewUrl)\n",
    "    review_elements = soup.select(\"div.review\")\n",
    "\n",
    "    for item in review_elements:\n",
    "\n",
    "        review = {\n",
    "            \"author\": item.find('span', {'class': 'a-profile-name'}).text.strip() if item.find('span', {'class': 'a-profile-name'}) else '',\n",
    "            \"rating\": item.find('i', {'data-hook': 'review-star-rating'}).text.strip()[0] if item.find('i', {'data-hook': 'review-star-rating'}) else '',\n",
    "            \"title\": item.find('a', {'data-hook': 'review-title'}).text.strip().split('\\n', 1)[1] if item.find('a', {'data-hook': 'review-title'}) else '',\n",
    "            \"content\": item.find('span', {'data-hook': 'review-body'}).text.strip() if item.find('span', {'data-hook': 'review-body'}) else '',\n",
    "            \"date\": item.find('span', {'data-hook': 'review-date'}).text.strip().split('on ', 1)[1]  if item.find('span', {'data-hook': 'review-date'}) else ''\n",
    "        }\n",
    "        print(review)\n",
    "        scraped_reviews.append(review)\n",
    "\n",
    "    return scraped_reviews"
   ]
  },
  {
   "cell_type": "code",
   "execution_count": 13,
   "metadata": {},
   "outputs": [],
   "source": [
    "def totalPages(productUrl):\n",
    "    soup = get_soup(productUrl)\n",
    "    reviews = soup.find('div', {'data-hook':\"cr-filter-info-review-rating-count\"})\n",
    "    print(reviews.text.strip().split(', ')[1].split(\" \")[0])\n",
    "    return int(reviews.text.strip().split(', ')[1].split(\" \")[0].replace(',',''))"
   ]
  },
  {
   "cell_type": "code",
   "execution_count": 14,
   "metadata": {},
   "outputs": [
    {
     "name": "stdout",
     "output_type": "stream",
     "text": [
      "https://www.amazon.co.uk/Yaheetech-Dining-Kitchen-Breakfast-Stools/product-reviews/B0C167TLF8/ref=cm_cr_arp_d_paging_btm_next_2?ie=UTF8&reviewerType=all_reviews&pageNumber=3\n",
      "56\n",
      "56\n",
      "Running for page 1\n",
      "https://www.amazon.co.uk/Yaheetech-Dining-Kitchen-Breakfast-Stools/product-reviews/B0C167TLF8/ref=cm_cr_arp_d_paging_btm_next_2?ie=UTF8&reviewerType=all_reviews&pageNumber=1\n",
      "{'author': 'Sarah white', 'rating': '5', 'title': 'Great quality for a great price', 'content': 'I bought This abit weary but it turned out to be perfect for our kitchen right size for the space we had, sturdy and easy to put together', 'date': '7 June 2024'}\n",
      "{'author': 'Tina', 'rating': '5', 'title': 'Sturdy and easy to assemble', 'content': 'This table and stools fits into my living room so neatly.  It looks good and seems very practical.  It is very sturdy and was easy and quick to assemble.  Very pleased.', 'date': '9 January 2024'}\n",
      "{'author': 'KC', 'rating': '4', 'title': 'Brilliant little table', 'content': 'For the price this is the most beautiful, sturdy, cheap dining table and chairs. Perfect for small spaces. Giving it 4 stars because the delivery driver left my parcel downstairs and I had to carry it up two flights of stairs. Its wasn’t easy. The item is very heavy!', 'date': '30 April 2024'}\n",
      "{'author': 'morganmarie', 'rating': '5', 'title': 'great', 'content': 'its the perfect size, quality is good and its very sturdy, easy to put up, got some seat cushions as the seats aren’t that comfortable but thats expected', 'date': '3 May 2024'}\n",
      "{'author': 'marguerite Bone', 'rating': '5', 'title': 'Fabulous table & stools', 'content': 'We bought 2 of these table and stools. For our kitchen diner. We have made it into a bar area!Fantastic worth every penny, and was free delivery , and delivered the next day!!!  No problems putting it together, it was quite easy for one person. Would highly recommend!!', 'date': '3 November 2023'}\n",
      "{'author': 'Nickipo76', 'rating': '5', 'title': 'Great build quality and value', 'content': \"Perfect table for our small kitchen/dining room! Arrived next day and took 20 mins to build. Excellent build quality! Can't go wrong for the price!!\", 'date': '4 June 2024'}\n",
      "{'author': 'Meh', 'rating': '5', 'title': 'Amazing', 'content': 'Decent price. Sturdy table and stool set. Easy to assemble.', 'date': '17 January 2024'}\n",
      "{'author': 'Cheee of E', 'rating': '4', 'title': 'Stickers', 'content': 'Table is lovely, easy to assembleHowever - the stickers are difficult to remove - one has left damage on one stool.', 'date': '2 June 2024'}\n",
      "{'author': 'Jade Williams', 'rating': '4', 'title': 'Looks really good', 'content': 'Looks really good, but doesn’t take long for the screws to start undoing and the side starts chipping', 'date': '6 April 2024'}\n",
      "{'author': 'donna', 'rating': '5', 'title': 'Sturdy', 'content': 'Worth the money and fits lovely sturdy for what it is ☺️', 'date': '15 May 2024'}\n",
      "Running for page 2\n",
      "https://www.amazon.co.uk/Yaheetech-Dining-Kitchen-Breakfast-Stools/product-reviews/B0C167TLF8/ref=cm_cr_arp_d_paging_btm_next_2?ie=UTF8&reviewerType=all_reviews&pageNumber=2\n",
      "Running for page 3\n",
      "https://www.amazon.co.uk/Yaheetech-Dining-Kitchen-Breakfast-Stools/product-reviews/B0C167TLF8/ref=cm_cr_arp_d_paging_btm_next_2?ie=UTF8&reviewerType=all_reviews&pageNumber=3\n",
      "Running for page 4\n",
      "https://www.amazon.co.uk/Yaheetech-Dining-Kitchen-Breakfast-Stools/product-reviews/B0C167TLF8/ref=cm_cr_arp_d_paging_btm_next_2?ie=UTF8&reviewerType=all_reviews&pageNumber=4\n",
      "Running for page 5\n",
      "https://www.amazon.co.uk/Yaheetech-Dining-Kitchen-Breakfast-Stools/product-reviews/B0C167TLF8/ref=cm_cr_arp_d_paging_btm_next_2?ie=UTF8&reviewerType=all_reviews&pageNumber=5\n",
      "            author rating                            title  \\\n",
      "0      Sarah white      5  Great quality for a great price   \n",
      "1             Tina      5      Sturdy and easy to assemble   \n",
      "2               KC      4           Brilliant little table   \n",
      "3      morganmarie      5                            great   \n",
      "4  marguerite Bone      5          Fabulous table & stools   \n",
      "5        Nickipo76      5    Great build quality and value   \n",
      "6              Meh      5                          Amazing   \n",
      "7       Cheee of E      4                         Stickers   \n",
      "8    Jade Williams      4                Looks really good   \n",
      "9            donna      5                           Sturdy   \n",
      "\n",
      "                                             content             date  \n",
      "0  I bought This abit weary but it turned out to ...      7 June 2024  \n",
      "1  This table and stools fits into my living room...   9 January 2024  \n",
      "2  For the price this is the most beautiful, stur...    30 April 2024  \n",
      "3  its the perfect size, quality is good and its ...       3 May 2024  \n",
      "4  We bought 2 of these table and stools. For our...  3 November 2023  \n",
      "5  Perfect table for our small kitchen/dining roo...      4 June 2024  \n",
      "6  Decent price. Sturdy table and stool set. Easy...  17 January 2024  \n",
      "7  Table is lovely, easy to assembleHowever - the...      2 June 2024  \n",
      "8  Looks really good, but doesn’t take long for t...     6 April 2024  \n",
      "9  Worth the money and fits lovely sturdy for wha...      15 May 2024  \n"
     ]
    }
   ],
   "source": [
    "search_url = \"https://www.amazon.co.uk/Yaheetech-Dining-Kitchen-Breakfast-Stools/product-reviews/B0C167TLF8/ref=cm_cr_arp_d_paging_btm_next_2?ie=UTF8&reviewerType=all_reviews&pageNumber=\"\n",
    "reviewUrl = search_url + str(3)\n",
    "print(reviewUrl)\n",
    "totalPage = totalPages(search_url)\n",
    "print(totalPage)\n",
    "\n",
    "for i in range(totalPage//10):\n",
    "    print(f\"Running for page {i+1}\")\n",
    "    time.sleep(3)\n",
    "    try:\n",
    "        reviewUrl = search_url + str(i+1)\n",
    "        print(reviewUrl)\n",
    "        get_reviews(reviewUrl)\n",
    "    except Exception as e:\n",
    "        print(e)\n",
    "        \n",
    "   \n",
    "df = pd.DataFrame(scraped_reviews)\n",
    "print(df)\n",
    "df.to_csv(\"xboxControllerReview.csv\")"
   ]
  }
 ],
 "metadata": {
  "kernelspec": {
   "display_name": "Python 3",
   "language": "python",
   "name": "python3"
  },
  "language_info": {
   "codemirror_mode": {
    "name": "ipython",
    "version": 3
   },
   "file_extension": ".py",
   "mimetype": "text/x-python",
   "name": "python",
   "nbconvert_exporter": "python",
   "pygments_lexer": "ipython3",
   "version": "3.12.0"
  }
 },
 "nbformat": 4,
 "nbformat_minor": 2
}
